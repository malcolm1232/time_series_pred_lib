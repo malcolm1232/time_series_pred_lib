{
 "cells": [
  {
   "cell_type": "markdown",
   "metadata": {},
   "source": [
    "# Objective:\n",
    "1. An important lacking aspect of humans is that we don't know what we dont know.\n",
    "2. Thus, It is a good habit to spend a little time each day to \"know what we dont know\"\n",
    "3. Useful Kaggle notebooks w.r.t Multivariate TS Prediction will be uploaded, defining key features / model for future reference.\n",
    "4. Objective of this repo is to know what we dont know. \n",
    "\n",
    "5. WRT to TS Pred, Key Objective is to identify key work by fellow Kagglers's amazing work to increase predictability for namely MultiVariate TS Prediction.\n",
    "6. In this amazing era of people who love to share their work to improve one another. \n",
    "7. We want to capitalize on great minds to positively reinforce knowledge and to learn from one another, \n",
    "8. Go Gits! \n"
   ]
  }
 ],
 "metadata": {
  "kernelspec": {
   "display_name": "Python 3",
   "language": "python",
   "name": "python3"
  },
  "language_info": {
   "codemirror_mode": {
    "name": "ipython",
    "version": 3
   },
   "file_extension": ".py",
   "mimetype": "text/x-python",
   "name": "python",
   "nbconvert_exporter": "python",
   "pygments_lexer": "ipython3",
   "version": "3.6.8"
  }
 },
 "nbformat": 4,
 "nbformat_minor": 4
}
