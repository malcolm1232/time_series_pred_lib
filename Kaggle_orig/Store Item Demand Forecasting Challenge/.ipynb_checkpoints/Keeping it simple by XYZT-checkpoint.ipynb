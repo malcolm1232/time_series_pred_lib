{
 "cells": [
  {
   "cell_type": "markdown",
   "metadata": {},
   "source": [
    "Credit: https://www.kaggle.com/code/hikmetsezen/base-model-with-lightgbm-on-demand-forecasting/notebook\n",
    "#### Overview Notes:\n",
    "1. Model: \n",
    "2. Why it got top X: \n",
    "  - Mainly: \n",
    "  \n",
    "#### Logic Notes\n",
    "1. In [7]: Check for Degeneracies in Data: Sudden Outliers \n",
    "2. In [8]: \"Relative sales\" in the plots above are the sales relative to the average. Since there are very regular patterns in the \"month\", \"day of week\", and \"year\" trends. All we have to do is simply memorize these trends and apply them to our predictions by multiplying them to the expected average sales. We get the expected average sales for an item at a store from the historical numbers in the training set.\n",
    "3. In [10]: When we are asked to predict the sales of Item X at Store Y on, say, a Monday in February - all we have to do is to look up the historical average of the sales of Item X at Store Y and then multiply it by a factor corresponding to Monday and then a factor corresponding to February to account for the seasonal and weekly changes in item sales at the stores. Finally, we multiply by the annual growth factor for the year we are predicting for. And thus, we have a very simple forecast of the item's sales.\n",
    "\n",
    "#### Technical Notes:\n",
    "1. \n"
   ]
  },
  {
   "cell_type": "markdown",
   "metadata": {
    "_uuid": "5ee23497e387c08e1aa0b7c1a9af658812677a87"
   },
   "source": [
    "# Introduction\n",
    "\n",
    "In this notebook, I go through how I worked to find a decent solution for this challenge using simple uncomplicated techniques. No machine learning, no fancy black-box models. Throw away your ARIMAs and Gradient Boosts. Think simple."
   ]
  },
  {
   "cell_type": "markdown",
   "metadata": {
    "_uuid": "c265d5f4c10385ed1d763e52e182dbb17ea5122b"
   },
   "source": [
    "# Setup and Loading Data"
   ]
  },
  {
   "cell_type": "code",
   "execution_count": null,
   "metadata": {
    "_uuid": "053e0f77865e9e7351c3a1cc26341f591b1282ce"
   },
   "outputs": [],
   "source": [
    "%load_ext autoreload\n",
    "%autoreload 2\n",
    "%matplotlib inline"
   ]
  },
  {
   "cell_type": "code",
   "execution_count": null,
   "metadata": {
    "_cell_guid": "b1076dfc-b9ad-4769-8c92-a6c4dae69d19",
    "_uuid": "8f2839f25d086af736a60e9eeb907d3b93b6e0e5"
   },
   "outputs": [],
   "source": [
    "import numpy as np\n",
    "import pandas as pd\n",
    "import matplotlib.pyplot as plt\n",
    "pd.set_option('display.max_rows', 12)\n",
    "\n",
    "PATH = \"../input\"\n",
    "train = pd.read_csv(f\"{PATH}/train.csv\", low_memory=False, \n",
    "                    parse_dates=['date'], index_col=['date'])\n",
    "test = pd.read_csv(f\"{PATH}/test.csv\", low_memory=False, \n",
    "                   parse_dates=['date'], index_col=['date'])\n",
    "sample_sub = pd.read_csv(f\"{PATH}/sample_submission.csv\")\n",
    "\n",
    "# Make the sample submission (Score: 48.75440)\n",
    "# sample_sub.to_csv(\"submission.csv\", index=False)"
   ]
  },
  {
   "cell_type": "markdown",
   "metadata": {
    "_uuid": "0e2783477b83f3481d1acb2581b1518f7da9d498"
   },
   "source": [
    "# A \"Dumb\" Prediction\n",
    "\n",
    "Find the average of sales of an item at a store on the day and month of sales and use that as the prediction. This effectively gives us a sample size of 5 (since the training set is five years long) to find the mean. This is clearly a sub-optimal solution because almost no thought goes into it. But it is helpful to code such solutions to get acquianted with the \"Getting Data -> Submitting Prediction\" pipeline from start to finish, and generally getting a feel for the data. It also provides a helpful benchmark for future solutions. \n",
    "\n",
    "*Any method that scores worse than this prediction is probably doing something incredibly wrong.*\n",
    "\n",
    "**Note: The following code block takes > 1 hour to run. It is extremely inefficient.**"
   ]
  },
  {
   "cell_type": "code",
   "execution_count": null,
   "metadata": {
    "_uuid": "cb886796e7f50c27a867eb355acb3c2a90aeae1d"
   },
   "outputs": [],
   "source": [
    "def dumb_prediction(train, test, submission):\n",
    "    for _, row in test.iterrows():\n",
    "        item, store = row['item'], row['store']\n",
    "        day, month = row.name.day, row.name.month\n",
    "        itemandstore = (train.item == item) & (train.store == store)\n",
    "        dayandmonth = (train.index.month == month) & (train.index.day == day)\n",
    "        train_rows = train.loc[itemandstore & dayandmonth]\n",
    "        pred_sales = int(round(train_rows.mean()['sales']))\n",
    "        submission.at[row['id'], 'sales'] = pred_sales\n",
    "    return submission\n",
    "\n",
    "# dumb_pred = dumb_prediction(train, test, sample_sub.copy())\n",
    "# dumb_pred.to_csv(\"dumb_submission.csv\", index=False)"
   ]
  },
  {
   "cell_type": "markdown",
   "metadata": {
    "_uuid": "f24118bf5884a77047eeab25bf7949ba6556ee5d"
   },
   "source": [
    "### This solution gets a score of 22.13108.\n",
    "Nothing impressive, but not completely terrible either. Pretty much the kind of error you can expect for such a silly model."
   ]
  },
  {
   "cell_type": "markdown",
   "metadata": {
    "_uuid": "b0d717d212b3ebb7884220b42acc8ee07e231767"
   },
   "source": [
    "# Slightly Better Prediction\n",
    "\n",
    "The previous method simply took the historical average of an item (on the same date and at the same store) and used it to predict the sales on the test set. We can improve this by understanding the data better. Is the a difference between sales on different days? That is, Mondays vs. Fridays, Weekends vs Weekdays? Are there special days without sales? Is there a difference between these stores? Is there a difference between the items?\n",
    "\n",
    "To understand these trend, we need to dive into the data!"
   ]
  },
  {
   "cell_type": "markdown",
   "metadata": {
    "_uuid": "f151cc3a42c5571ac8699bfab588a1a89f4c0d88"
   },
   "source": [
    "## Exploring the data"
   ]
  },
  {
   "cell_type": "code",
   "execution_count": null,
   "metadata": {
    "_uuid": "0147272958e037feb15d92b6c9bf9e847d1eb33f"
   },
   "outputs": [],
   "source": [
    "# Expand dataframe with more useful columns\n",
    "def expand_df(df):\n",
    "    data = df.copy()\n",
    "    data['day'] = data.index.day\n",
    "    data['month'] = data.index.month\n",
    "    data['year'] = data.index.year\n",
    "    data['dayofweek'] = data.index.dayofweek\n",
    "    return data\n",
    "\n",
    "data = expand_df(train)\n",
    "display(data)\n",
    "\n",
    "grand_avg = data.sales.mean()\n",
    "print(f\"The grand average of sales in this dataset is {grand_avg:.4f}\")"
   ]
  },
  {
   "cell_type": "markdown",
   "metadata": {
    "_uuid": "6861a4b18986047974a0e7d45ca9eda4be32021d"
   },
   "source": [
    "### Changes by year\n",
    "\n",
    "All items and stores seem to enjoy a similar growth in sales over the years."
   ]
  },
  {
   "cell_type": "code",
   "execution_count": null,
   "metadata": {
    "_uuid": "6a35eea206dbf655750052469385b67bd1bc5e49"
   },
   "outputs": [],
   "source": [
    "agg_year_item = pd.pivot_table(data, index='year', columns='item',\n",
    "                               values='sales', aggfunc=np.mean).values\n",
    "agg_year_store = pd.pivot_table(data, index='year', columns='store',\n",
    "                                values='sales', aggfunc=np.mean).values\n",
    "\n",
    "plt.figure(figsize=(12, 5))\n",
    "plt.subplot(121)\n",
    "plt.plot(agg_year_item / agg_year_item.mean(0)[np.newaxis])\n",
    "plt.title(\"Items\")\n",
    "plt.xlabel(\"Year\")\n",
    "plt.ylabel(\"Relative Sales\")\n",
    "plt.subplot(122)\n",
    "plt.plot(agg_year_store / agg_year_store.mean(0)[np.newaxis])\n",
    "plt.title(\"Stores\")\n",
    "plt.xlabel(\"Year\")\n",
    "plt.ylabel(\"Relative Sales\")\n",
    "plt.show()"
   ]
  },
  {
   "cell_type": "markdown",
   "metadata": {
    "_uuid": "3f19801b0850bf2fc5f87a8e225e0b0e0f79ebaf"
   },
   "source": [
    "### Changes by month\n",
    "\n",
    "All items and stores seem to share a common pattern in sales over the months as well.\n"
   ]
  },
  {
   "cell_type": "code",
   "execution_count": null,
   "metadata": {
    "_uuid": "3bf3a39598d1c737baf7cc09f23c43a9e663723b"
   },
   "outputs": [],
   "source": [
    "agg_month_item = pd.pivot_table(data, index='month', columns='item',\n",
    "                                values='sales', aggfunc=np.mean).values\n",
    "agg_month_store = pd.pivot_table(data, index='month', columns='store',\n",
    "                                 values='sales', aggfunc=np.mean).values\n",
    "\n",
    "plt.figure(figsize=(12, 5))\n",
    "plt.subplot(121)\n",
    "plt.plot(agg_month_item / agg_month_item.mean(0)[np.newaxis])\n",
    "plt.title(\"Items\")\n",
    "plt.xlabel(\"Month\")\n",
    "plt.ylabel(\"Relative Sales\")\n",
    "plt.subplot(122)\n",
    "plt.plot(agg_month_store / agg_month_store.mean(0)[np.newaxis])\n",
    "plt.title(\"Stores\")\n",
    "plt.xlabel(\"Month\")\n",
    "plt.ylabel(\"Relative Sales\")\n",
    "plt.show()"
   ]
  },
  {
   "cell_type": "markdown",
   "metadata": {
    "_uuid": "0205e201e627d34bf7ec866b5231f98039fb7079"
   },
   "source": [
    "### Changes by day of the week\n",
    "\n",
    "All items and stores also seem to share a common pattern in sales over the days of the week as well."
   ]
  },
  {
   "cell_type": "code",
   "execution_count": null,
   "metadata": {
    "_uuid": "e3eb21871f6a945a2d61849d5ee7a1030357c9fc"
   },
   "outputs": [],
   "source": [
    "agg_dow_item = pd.pivot_table(data, index='dayofweek', columns='item',\n",
    "                              values='sales', aggfunc=np.mean).values\n",
    "agg_dow_store = pd.pivot_table(data, index='dayofweek', columns='store',\n",
    "                               values='sales', aggfunc=np.mean).values\n",
    "\n",
    "plt.figure(figsize=(12, 5))\n",
    "plt.subplot(121)\n",
    "plt.plot(agg_dow_item / agg_dow_item.mean(0)[np.newaxis])\n",
    "plt.title(\"Items\")\n",
    "plt.xlabel(\"Day of Week\")\n",
    "plt.ylabel(\"Relative Sales\")\n",
    "plt.subplot(122)\n",
    "plt.plot(agg_dow_store / agg_dow_store.mean(0)[np.newaxis])\n",
    "plt.title(\"Stores\")\n",
    "plt.xlabel(\"Day of Week\")\n",
    "plt.ylabel(\"Relative Sales\")\n",
    "plt.show()"
   ]
  },
  {
   "cell_type": "markdown",
   "metadata": {
    "_uuid": "e6b99ee6131d0144d99fb5aec8ea2028dc2366f3"
   },
   "source": [
    "### Are these patterns degenerate?\n",
    "\n",
    "This is an important question. Not checking for degeneracies in the data can lead to missing important trends in complex datasets. For example, when looking at the monthly patterns, we average over all days of the month, years and either items or stores. But what if sales have a multi-dimensional dependence on two of these parameters that isn't easily separable? So, always check for degeneracies in the data!"
   ]
  },
  {
   "cell_type": "code",
   "execution_count": null,
   "metadata": {
    "_uuid": "636cb3fe4ff48f3e77b6e6b8a2ee057446c71199"
   },
   "outputs": [],
   "source": [
    "agg_dow_month = pd.pivot_table(data, index='dayofweek', columns='month',\n",
    "                               values='sales', aggfunc=np.mean).values\n",
    "agg_month_year = pd.pivot_table(data, index='month', columns='year',\n",
    "                                values='sales', aggfunc=np.mean).values\n",
    "agg_dow_year = pd.pivot_table(data, index='dayofweek', columns='year',\n",
    "                              values='sales', aggfunc=np.mean).values\n",
    "\n",
    "plt.figure(figsize=(18, 5))\n",
    "plt.subplot(131)\n",
    "plt.plot(agg_dow_month / agg_dow_month.mean(0)[np.newaxis])\n",
    "plt.title(\"Months\")\n",
    "plt.xlabel(\"Day of Week\")\n",
    "plt.ylabel(\"Relative Sales\")\n",
    "plt.subplot(132)\n",
    "plt.plot(agg_month_year / agg_month_year.mean(0)[np.newaxis])\n",
    "plt.title(\"Years\")\n",
    "plt.xlabel(\"Months\")\n",
    "plt.ylabel(\"Relative Sales\")\n",
    "plt.subplot(133)\n",
    "plt.plot(agg_dow_year / agg_dow_year.mean(0)[np.newaxis])\n",
    "plt.title(\"Years\")\n",
    "plt.xlabel(\"Day of Week\")\n",
    "plt.ylabel(\"Relative Sales\")\n",
    "plt.show()"
   ]
  },
  {
   "cell_type": "markdown",
   "metadata": {
    "_uuid": "7ee55973dd2caf82ec98d67b583383cce3f03fe1"
   },
   "source": [
    "In this case, however, there don't seem to be any sneaky degeneracies. We can effectively treat the \"month\", \"year\", \"day of the week\", \"item\" and \"store\" as completely independent modifiers to sales prediction. This leads to a *very very simple* prediction model.\n",
    "\n",
    "\"Relative sales\" in the plots above are the sales relative to the average. Since there are very regular patterns in the \"month\", \"day of week\", and \"year\" trends. All we have to do is simply memorize these trends and apply them to our predictions by multiplying them to the expected average sales. We get the expected average sales for an item at a store from the historical numbers in the training set."
   ]
  },
  {
   "cell_type": "markdown",
   "metadata": {
    "_uuid": "f549615ecac3f272f314f81ea1ed2521401090da"
   },
   "source": [
    "### What about the item-store relationship?"
   ]
  },
  {
   "cell_type": "code",
   "execution_count": null,
   "metadata": {
    "_uuid": "b9d0a17a4d4cdcf88069e7f5236ba62521723e83"
   },
   "outputs": [],
   "source": [
    "agg_store_item = pd.pivot_table(data, index='store', columns='item',\n",
    "                                values='sales', aggfunc=np.mean).values\n",
    "\n",
    "plt.figure(figsize=(14, 5))\n",
    "plt.subplot(121)\n",
    "plt.plot(agg_store_item / agg_store_item.mean(0)[np.newaxis])\n",
    "plt.title(\"Items\")\n",
    "plt.xlabel(\"Store\")\n",
    "plt.ylabel(\"Relative Sales\")\n",
    "plt.subplot(122)\n",
    "plt.plot(agg_store_item.T / agg_store_item.T.mean(0)[np.newaxis])\n",
    "plt.title(\"Stores\")\n",
    "plt.xlabel(\"Item\")\n",
    "plt.ylabel(\"Relative Sales\")\n",
    "plt.show()"
   ]
  },
  {
   "cell_type": "markdown",
   "metadata": {
    "_uuid": "2aa2f84efb28d9c15a499dc39d5b63ab186793aa"
   },
   "source": [
    "Same here. Just a constant pattern and no degeneracies. So, you just need a model for how items sell at different stores, which is easily captured by an average sales look-up table or yet another \"relative sales\" pattern model.\n",
    "\n",
    "> *Aside: Based on the extremely regularity of the data, how neat it is, and how few degeneracies there are - I am fairly confident this is probably simulated data.*"
   ]
  },
  {
   "cell_type": "markdown",
   "metadata": {
    "_uuid": "19f415e7519cbfb6e12931a5b2915307b7c2e0e7"
   },
   "source": [
    "## Writing the \"slightly better predictor\"\n",
    "\n",
    "We just need an item-store average sale look-up table, and then the \"day of week\", \"monthly\", \"yearly\" models."
   ]
  },
  {
   "cell_type": "code",
   "execution_count": null,
   "metadata": {
    "_uuid": "14f37ffffa1bc221f7684d4efa5f742fd08edf59"
   },
   "outputs": [],
   "source": [
    "# Item-Store Look Up Table\n",
    "store_item_table = pd.pivot_table(data, index='store', columns='item',\n",
    "                                  values='sales', aggfunc=np.mean)\n",
    "display(store_item_table)\n",
    "\n",
    "# Monthly pattern\n",
    "month_table = pd.pivot_table(data, index='month', values='sales', aggfunc=np.mean)\n",
    "month_table.sales /= grand_avg\n",
    "\n",
    "# Day of week pattern\n",
    "dow_table = pd.pivot_table(data, index='dayofweek', values='sales', aggfunc=np.mean)\n",
    "dow_table.sales /= grand_avg\n",
    "\n",
    "# Yearly growth pattern\n",
    "year_table = pd.pivot_table(data, index='year', values='sales', aggfunc=np.mean)\n",
    "year_table /= grand_avg\n",
    "\n",
    "years = np.arange(2013, 2019)\n",
    "annual_sales_avg = year_table.values.squeeze()\n",
    "\n",
    "p1 = np.poly1d(np.polyfit(years[:-1], annual_sales_avg, 1))\n",
    "p2 = np.poly1d(np.polyfit(years[:-1], annual_sales_avg, 2))\n",
    "\n",
    "plt.figure(figsize=(8,6))\n",
    "plt.plot(years[:-1], annual_sales_avg, 'ko')\n",
    "plt.plot(years, p1(years), 'C0-')\n",
    "plt.plot(years, p2(years), 'C1-')\n",
    "plt.xlim(2012.5, 2018.5)\n",
    "plt.title(\"Relative Sales by Year\")\n",
    "plt.ylabel(\"Relative Sales\")\n",
    "plt.xlabel(\"Year\")\n",
    "plt.show()\n",
    "\n",
    "print(f\"2018 Relative Sales by Degree-1 (Linear) Fit = {p1(2018):.4f}\")\n",
    "print(f\"2018 Relative Sales by Degree-2 (Quadratic) Fit = {p2(2018):.4f}\")\n",
    "\n",
    "# We pick the quadratic fit\n",
    "annual_growth = p2"
   ]
  },
  {
   "cell_type": "markdown",
   "metadata": {
    "_uuid": "0ae3d1b14aa23ec71104ba68a546ac2c1b1e19b6"
   },
   "source": [
    "We can do a simple linear regression on the yearly growth datapoints. But if you look carefully, you can tell that the growth is slowing down. The quadratic fit works better since it better captures the curvature in the growth curve. Since we only have 5 points, this is the highest degree polynomial fit you should do to avoid overfitting."
   ]
  },
  {
   "cell_type": "markdown",
   "metadata": {
    "_uuid": "6436cc9550730bca752f625876cb5a6b6e2ae0ed"
   },
   "source": [
    "Now, we write the predictor. It's quite simple! When we are asked to predict the sales of Item X at Store Y on, say, a Monday in February - all we have to do is to look up the historical average of the sales of Item X at Store Y and then multiply it by a factor corresponding to Monday and then a factor corresponding to February to account for the seasonal and weekly changes in item sales at the stores. Finally, we multiply by the annual growth factor for the year we are predicting for. And thus, we have a very simple forecast of the item's sales.\n",
    "\n",
    "This predictor will run quite fast and should parse through the whole test dataset in less than 20 seconds. A significant improvement over the \"dumb\" prediction method both in accuracy and compute efficiency."
   ]
  },
  {
   "cell_type": "code",
   "execution_count": null,
   "metadata": {
    "_uuid": "2ff0f909b2971492fd0dccacca25deee6cbc9f84"
   },
   "outputs": [],
   "source": [
    "def slightly_better(test, submission):\n",
    "    submission[['sales']] = submission[['sales']].astype(np.float64)\n",
    "    for _, row in test.iterrows():\n",
    "        dow, month, year = row.name.dayofweek, row.name.month, row.name.year\n",
    "        item, store = row['item'], row['store']\n",
    "        base_sales = store_item_table.at[store, item]\n",
    "        mul = month_table.at[month, 'sales'] * dow_table.at[dow, 'sales']\n",
    "        pred_sales = base_sales * mul * annual_growth(year)\n",
    "        submission.at[row['id'], 'sales'] = pred_sales\n",
    "    return submission\n",
    "\n",
    "slightly_better_pred = slightly_better(test, sample_sub.copy())\n",
    "slightly_better_pred.to_csv(\"sbp_float.csv\", index=False)\n",
    "\n",
    "# Round to nearest integer (if you want an integer submission)\n",
    "sbp_round = slightly_better_pred.copy()\n",
    "sbp_round['sales'] = np.round(sbp_round['sales']).astype(int)\n",
    "sbp_round.to_csv(\"sbp_round.csv\", index=False)"
   ]
  },
  {
   "cell_type": "markdown",
   "metadata": {
    "_uuid": "02762f1416f4d81eefa7dcee83f7fcb692f1f04c"
   },
   "source": [
    "### This solution gets a public score of 13.88569, and 13.87573 when rounding to the nearest integer!\n",
    "**(A nice improvement especially given the simplicity of the solution)**\n",
    "\n",
    "*Note: Rounding to the nearest integer likely gives a marginally better score because the ground truth values are integers and rounding on average gets you closer to the actual values if your model is good.*"
   ]
  },
  {
   "cell_type": "markdown",
   "metadata": {
    "_uuid": "dfacc0ae23430c2b469b3d7ee4d089a608730497"
   },
   "source": [
    "# How can we do better?\n",
    "\n",
    "Now that we have a very simple and effective model, there are many different direction we can go in improving the model. Here are a few ideas:\n",
    "\n",
    "* Try seeing how well the model does on the training set itself and what the SMAPE metric looks like. Does the noise properties make sense? Is there a trend in the SMAPE? Finding regions of high SMAPE in the training set can be a rough indicator of where accuracy is taking a hit on the test set!\n",
    "\n",
    "* Is the sales data normally distributed around the trends we found? If not, that can distort our predictions. Correctly for the noise distribution can help lower the SMAPE (and ultimately, make a better predictor).\n",
    "\n",
    "* Are there other trends we missed? ***Try not to depend on black-box algorithms!*** Use your domain knowledge of stores and think about what could affect item sales.\n",
    "\n",
    "# Conclusion\n",
    "\n",
    "While it is enticing to throw a complicated magical algorithm at any and all datasets blindly, it is usually easier and more meaningful to simply think about the data and come up with simpler models. This kernel was written to show how easy-to-understand methods such as finding averages and simple regressions used under the guidance of domain knowledge (i.e., thinking about how stores work) do equally as well, if not much better than overly-complicated algorithms."
   ]
  },
  {
   "cell_type": "markdown",
   "metadata": {
    "_uuid": "12520523a8a33d12a11664afadde666052f94d62"
   },
   "source": [
    "# Additional: Tweaking the predictor\n",
    "\n",
    "One of the small tweaks we can make to the model is to weigh data by recency. So, we weigh older data less and much recent data more! One easy way to do this is to use an exponential decay function for your weight. We want the weights to get exponentially smaller the further back in the past we go.\n",
    "\n",
    "*Since this is simulated data, if the simulation had some hidden variables that changed with time, perhaps this is a simple way to encode that into the model without knowing what it is.*\n",
    "\n",
    "Here I use the following equation for the weights: $$\\exp\\left(\\frac{year - 2018}{5}\\right)$$\n",
    "\n",
    "The factor of 5 is arbitrarily picked for simulated data. In real data, it might make sense since you would expect store sales to lose predictive power after a decade or so. "
   ]
  },
  {
   "cell_type": "code",
   "execution_count": null,
   "metadata": {
    "_uuid": "0223a8231f7bc0177286c9e6bd6017914927d857"
   },
   "outputs": [],
   "source": [
    "years = np.arange(2013, 2019)\n",
    "annual_sales_avg = year_table.values.squeeze()\n",
    "\n",
    "weights = np.exp((years - 2018)/5)\n",
    "\n",
    "annual_growth = np.poly1d(np.polyfit(years[:-1], annual_sales_avg, 2, w=weights[:-1]))\n",
    "print(f\"2018 Relative Sales by Weighted Fit = {annual_growth(2018)}\")"
   ]
  },
  {
   "cell_type": "code",
   "execution_count": null,
   "metadata": {
    "_uuid": "4105c5b9e74c6b52c7137a44aded9262adfdfe6b"
   },
   "outputs": [],
   "source": [
    "def weighted_predictor(test, submission):\n",
    "    submission[['sales']] = submission[['sales']].astype(np.float64)\n",
    "    for _, row in test.iterrows():\n",
    "        dow, month, year = row.name.dayofweek, row.name.month, row.name.year\n",
    "        item, store = row['item'], row['store']\n",
    "        base_sales = store_item_table.at[store, item]\n",
    "        mul = month_table.at[month, 'sales'] * dow_table.at[dow, 'sales']\n",
    "        pred_sales = base_sales * mul * annual_growth(year)\n",
    "        submission.at[row['id'], 'sales'] = pred_sales\n",
    "    return submission\n",
    "\n",
    "weighted_pred = weighted_predictor(test, sample_sub.copy())\n",
    "\n",
    "# Round to nearest integer\n",
    "wp_round = weighted_pred.copy()\n",
    "wp_round['sales'] = np.round(wp_round['sales']).astype(int)\n",
    "wp_round.to_csv(\"weight_predictor.csv\", index=False)"
   ]
  },
  {
   "cell_type": "markdown",
   "metadata": {
    "_uuid": "5fcfaa76e02e84b12915c700e04eb62a06937fa5"
   },
   "source": [
    "### This solution gets a public score of 13.85181!\n",
    "\n",
    "**Which is quite nice, indeed!**"
   ]
  },
  {
   "cell_type": "markdown",
   "metadata": {
    "_uuid": "8dbfc3dfcc4d773c9732180852909fdae8b92352"
   },
   "source": [
    "# Additional II: Exploiting a noisy degeneracy\n",
    "\n",
    "I noticed (quite late, I admit) that there is a small degeneracy I missed above. If you look at the plots above in the notebook, you notice that the store in which an item being sold has a *very stable* relative sales factor. However, the \"day of the week\" on which an item is being sold has a larger spread (or is more noisy to the eye).\n",
    "\n",
    "This reveals a small error I made earlier: Making a store-item look up table. This should have been a \"Day of week\" - Item look up table. This would encode any built-in degeneracies over those dimensions and greatly improve the model.\n",
    "\n",
    "Another change I decide to make is ignore all the data before 2015 (except for extrapolating the yearly trend, because we need more data points for that). The idea here is if the degeneracy evolves over time, you don't want the older data to bias you against it."
   ]
  },
  {
   "cell_type": "code",
   "execution_count": null,
   "metadata": {
    "_uuid": "e2490b3915bfe1e537d327e2b652f5aa29cce83b"
   },
   "outputs": [],
   "source": [
    "# Only data 2015 and after is used\n",
    "cut_off_year = 2015\n",
    "new_data = data.loc[data.year >= cut_off_year]\n",
    "grand_avg = new_data.sales.mean()\n",
    "\n",
    "# Day of week - Item Look up table\n",
    "dow_item_table = pd.pivot_table(new_data, index='dayofweek', columns='item', values='sales', aggfunc=np.mean)\n",
    "display(dow_item_table)\n",
    "\n",
    "# Month pattern\n",
    "month_table = pd.pivot_table(new_data, index='month', values='sales', aggfunc=np.mean)\n",
    "month_table.sales /= grand_avg\n",
    "\n",
    "# Store pattern\n",
    "store_table = pd.pivot_table(new_data, index='store', values='sales', aggfunc=np.mean)\n",
    "store_table.sales /= grand_avg"
   ]
  },
  {
   "cell_type": "markdown",
   "metadata": {
    "_uuid": "9a7151079e5f115b2ea479fee42303d8a70cd0fd"
   },
   "source": [
    "For the annual trend, I use a longer exponential drop-off because it works better than before, honestly."
   ]
  },
  {
   "cell_type": "code",
   "execution_count": null,
   "metadata": {
    "_uuid": "3d140e1bc90a43128c92ba4e7b69d326a903a070"
   },
   "outputs": [],
   "source": [
    "year_table = pd.pivot_table(data, index='year', values='sales', aggfunc=np.mean)\n",
    "year_table /= grand_avg\n",
    "\n",
    "years = np.arange(2013, 2019)\n",
    "annual_sales_avg = year_table.values.squeeze()\n",
    "\n",
    "weights = np.exp((years - 2018)/10)\n",
    "annual_growth = np.poly1d(np.polyfit(years[:-1], annual_sales_avg, 2, w=weights[:-1]))\n",
    "print(f\"2018 Relative Sales by Weighted Fit = {annual_growth(2018)}\")"
   ]
  },
  {
   "cell_type": "code",
   "execution_count": null,
   "metadata": {
    "_uuid": "98af5d77a27c3cd4c74d268c024242bafa88e8c1"
   },
   "outputs": [],
   "source": [
    "def awesome_predictor(test, submission):\n",
    "    submission[['sales']] = submission[['sales']].astype(np.float64)\n",
    "    for _, row in test.iterrows():\n",
    "        dow, month, year = row.name.dayofweek, row.name.month, row.name.year\n",
    "        item, store = row['item'], row['store']\n",
    "        base_sales = dow_item_table.at[dow, item]\n",
    "        mul = month_table.at[month, 'sales'] * store_table.at[store, 'sales']\n",
    "        pred_sales = base_sales * mul * annual_growth(year)\n",
    "        submission.at[row['id'], 'sales'] = pred_sales\n",
    "    return submission\n",
    "\n",
    "pred = awesome_predictor(test, sample_sub.copy())\n",
    "rounded = pred.copy()\n",
    "rounded['sales'] = np.round(rounded['sales']).astype(int)\n",
    "rounded.to_csv(f\"awesome_prediction.csv\", index=False)"
   ]
  },
  {
   "cell_type": "markdown",
   "metadata": {
    "_uuid": "e48602744f3379c1dc28e792c2b85933c2f88900"
   },
   "source": [
    "### This solution gets a public score of 13.83850!\n",
    "\n",
    "**Awesome!**"
   ]
  }
 ],
 "metadata": {
  "kernelspec": {
   "display_name": "Python 3",
   "language": "python",
   "name": "python3"
  },
  "language_info": {
   "codemirror_mode": {
    "name": "ipython",
    "version": 3
   },
   "file_extension": ".py",
   "mimetype": "text/x-python",
   "name": "python",
   "nbconvert_exporter": "python",
   "pygments_lexer": "ipython3",
   "version": "3.6.8"
  }
 },
 "nbformat": 4,
 "nbformat_minor": 1
}
