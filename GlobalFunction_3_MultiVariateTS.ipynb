{
 "cells": [
  {
   "cell_type": "markdown",
   "id": "246c94be",
   "metadata": {},
   "source": [
    "# Global Functions for Kaggle Codes for Reproducibility\n",
    "\n",
    "\n",
    "### Objective\n",
    "1. Global Functions for Kaggle Codes for Reproducibility\n",
    "\n",
    "### Example Notebooks to understand reference\n",
    "1. Refer to Kaggle-->Store Sales - Time Series Forecasting-->Top_1_Part 2_guide-external-data-features-for-multivariatets_Explanation.ipynb\n",
    "\n",
    "### Sections\n",
    "1. CustomRegressor() : class : Model for Prediction:\n",
    "  - credit: https://www.kaggle.com/code/romaupgini/guide-external-data-features-for-multivariatets/notebook"
   ]
  },
  {
   "cell_type": "code",
   "execution_count": 1,
   "id": "3871b4e9",
   "metadata": {},
   "outputs": [],
   "source": [
    "def get_cleaned_oil(df, col_name, date_range_start, date_range_end, rolling_period, n_lags=3 ):\n",
    "    '''\n",
    "    format:\n",
    "    :param Parameter: [type]: {Example or Explanation}\n",
    "\n",
    "    :param df: [pandas DataFrame]: {DataFrame}\n",
    "    :param col_name: Column Name of Oil\n",
    "    :param date_range_start: [Str] : {Start of Date Range in the format of \"2013-01-01\" or \"2017-08-31\"}\n",
    "    :param date_range_end: [Str] : {End of Date Range in the format of \"2013-01-01\" or \"2017-08-31\"}\n",
    "\n",
    "    :param rolling_period: [int] : {rolling average int; rolling(x).mean()}\n",
    "    :param n_lags: [int] : {After Determining autocorrelation, define lag number}\n",
    "\n",
    "    '''\n",
    "    print('[Instruction]: Did not emperically determine pacf. Thus, Look at pyplot and Determining autocorrelation\\\n",
    "    to define lag_number to determine number of price lags')\n",
    "    \n",
    "    calendar = pd.DataFrame(index = pd.date_range(date_range_start, date_range_end)).to_period('D')# param # param\n",
    "    oil = pd.read_csv('./datasets/oil.csv',\n",
    "                      parse_dates = ['date'], infer_datetime_format = True,\n",
    "                      index_col = 'date').to_period('D')\n",
    "    oil['avg_oil'] = oil[col_name].rolling(rolling_period).mean() # param # param\n",
    "    calendar = calendar.join(oil.avg_oil)\n",
    "    calendar['avg_oil'].fillna(method = 'ffill', inplace = True)\n",
    "    calendar.dropna(inplace = True)\n",
    "    calendar\n",
    "    \n",
    "    _ = plot_pacf(calendar.avg_oil, lags = 10)\n",
    "#     import matplotlib.pyplot as plt\n",
    "    plt.rcParams[\"figure.figsize\"] = (8,8)\n",
    "    plt.show()\n",
    "    \n",
    "    n_lags = n_lags # param\n",
    "    for l in range(1, n_lags + 1):\n",
    "        calendar[f'oil_lags{l}'] = calendar.avg_oil.shift(l)\n",
    "    calendar.dropna(inplace = True)\n",
    "    return calendar\n",
    "\n",
    "# # Sample Input Data\n",
    "# df = pd.read_csv('./datasets/oil.csv')\n",
    "# col_name='dcoilwtico'\n",
    "# date_range_start='2013-01-01'\n",
    "# date_range_end='2017-08-31'\n",
    "# rolling_period=7\n",
    "# n_lags=3\n",
    "\n",
    "# get_cleaned_oil(df, col_name, date_range_start, date_range_end, rolling_period, n_lags=3 )"
   ]
  },
  {
   "cell_type": "code",
   "execution_count": null,
   "id": "0aa5375a",
   "metadata": {},
   "outputs": [],
   "source": []
  },
  {
   "cell_type": "code",
   "execution_count": null,
   "id": "2523efcf",
   "metadata": {},
   "outputs": [],
   "source": []
  },
  {
   "cell_type": "code",
   "execution_count": null,
   "id": "57071bda",
   "metadata": {},
   "outputs": [],
   "source": []
  },
  {
   "cell_type": "code",
   "execution_count": null,
   "id": "02bb5d55",
   "metadata": {},
   "outputs": [],
   "source": []
  }
 ],
 "metadata": {
  "kernelspec": {
   "display_name": "Python 3 (ipykernel)",
   "language": "python",
   "name": "python3"
  },
  "language_info": {
   "codemirror_mode": {
    "name": "ipython",
    "version": 3
   },
   "file_extension": ".py",
   "mimetype": "text/x-python",
   "name": "python",
   "nbconvert_exporter": "python",
   "pygments_lexer": "ipython3",
   "version": "3.9.12"
  }
 },
 "nbformat": 4,
 "nbformat_minor": 5
}
