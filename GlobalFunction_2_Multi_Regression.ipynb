{
 "cells": [
  {
   "cell_type": "markdown",
   "metadata": {},
   "source": [
    "# Global Functions for Kaggle Codes for Reproducibility"
   ]
  },
  {
   "cell_type": "markdown",
   "metadata": {},
   "source": [
    "### Objective\n",
    "1. Global Functions for Kaggle Codes for Reproducibility\n",
    "\n",
    "### Sections\n",
    "1. CustomRegressor() : class : Model for Prediction:\n",
    "  - Credit: https://www.kaggle.com/code/andrej0marinchenko/hyperparamaters"
   ]
  },
  {
   "cell_type": "markdown",
   "metadata": {},
   "source": [
    "## Section 1: CustomRegressor()"
   ]
  },
  {
   "cell_type": "code",
   "execution_count": null,
   "metadata": {},
   "outputs": [],
   "source": [
    "from joblib import Parallel, delayed\n",
    "import warnings\n",
    "\n",
    "# Import necessary library\n",
    "from sklearn.linear_model import Ridge, LinearRegression, ElasticNet\n",
    "from sklearn.svm import SVR\n",
    "from sklearn.ensemble import RandomForestRegressor\n",
    "from sklearn.ensemble import ExtraTreesRegressor\n",
    "from sklearn.ensemble import BaggingRegressor\n",
    "from sklearn.ensemble import VotingRegressor\n",
    "\n",
    "# SEED for reproducible result\n",
    "SEED = 5\n",
    "\n",
    "class CustomRegressor():\n",
    "    \n",
    "    def __init__(self, n_jobs=-1, verbose=0):\n",
    "        \n",
    "        self.n_jobs = n_jobs\n",
    "        self.verbose = verbose\n",
    "        \n",
    "        self.estimators_ = None\n",
    "        \n",
    "    def _estimator_(self, X, y, outlier_str):\n",
    "        \n",
    "        '''\n",
    "        format:\n",
    "        :param Parameter: [type]: {Example or Explanation}\n",
    "        ______\n",
    "        :param X: [pandas DataFrame]: {DataFrame}\n",
    "        :param y: [pandas DataFrame]: {DataFrame}\n",
    "        :param outlier_str: [str]: {Outlier str eg. \"SCHOOL AND OFFICE SUPPLIES\"}\n",
    "        \n",
    "        '''\n",
    "        \n",
    "        warnings.simplefilter(action='ignore', category=FutureWarning)\n",
    "        \n",
    "        if y.name[2] == outlier_str: # Because SCHOOL AND OFFICE SUPPLIES has weird trend, we use decision tree instead.\n",
    "            r1 = ExtraTreesRegressor(n_estimators = 225, n_jobs=-1, random_state=SEED)\n",
    "            r2 = RandomForestRegressor(n_estimators = 225, n_jobs=-1, random_state=SEED)\n",
    "            b1 = BaggingRegressor(base_estimator=r1,\n",
    "                                  n_estimators=10,\n",
    "                                  n_jobs=-1,\n",
    "                                  random_state=SEED)\n",
    "            b2 = BaggingRegressor(base_estimator=r2,\n",
    "                                  n_estimators=10,\n",
    "                                  n_jobs=-1,\n",
    "                                  random_state=SEED)\n",
    "            model = VotingRegressor([('et', b1), ('rf', b2)]) # Averaging the result\n",
    "        else:\n",
    "            ridge = Ridge(fit_intercept=True, solver='auto', alpha=0.75, normalize=True, random_state=SEED)\n",
    "            svr = SVR(C = 0.2, kernel = 'rbf')\n",
    "            \n",
    "            model = VotingRegressor([('ridge', ridge), ('svr', svr)]) # Averaging result\n",
    "        model.fit(X, y)\n",
    "\n",
    "        return model\n",
    "\n",
    "    def fit(self, X, y):\n",
    "        from tqdm.auto import tqdm\n",
    "        \n",
    "        \n",
    "        if self.verbose == 0 :\n",
    "            self.estimators_ = Parallel(n_jobs=self.n_jobs, \n",
    "                                  verbose=0,\n",
    "                                  )(delayed(self._estimator_)(X, y.iloc[:, i]) for i in range(y.shape[1]))\n",
    "        else :\n",
    "            print('Fit Progress')\n",
    "            self.estimators_ = Parallel(n_jobs=self.n_jobs, \n",
    "                                  verbose=0,\n",
    "                                  )(delayed(self._estimator_)(X, y.iloc[:, i]) for i in tqdm(range(y.shape[1])))\n",
    "        return\n",
    "    \n",
    "    def predict(self, X):\n",
    "        from tqdm.auto import tqdm\n",
    "        if self.verbose == 0 :\n",
    "            y_pred = Parallel(n_jobs=self.n_jobs, \n",
    "                              verbose=0)(delayed(e.predict)(X) for e in self.estimators_)\n",
    "        else :\n",
    "            print('Predict Progress')\n",
    "            y_pred = Parallel(n_jobs=self.n_jobs, \n",
    "                              verbose=0)(delayed(e.predict)(X) for e in tqdm(self.estimators_))\n",
    "        \n",
    "        return np.stack(y_pred, axis=1)"
   ]
  }
 ],
 "metadata": {
  "kernelspec": {
   "display_name": "Python 3",
   "language": "python",
   "name": "python3"
  },
  "language_info": {
   "codemirror_mode": {
    "name": "ipython",
    "version": 3
   },
   "file_extension": ".py",
   "mimetype": "text/x-python",
   "name": "python",
   "nbconvert_exporter": "python",
   "pygments_lexer": "ipython3",
   "version": "3.6.8"
  }
 },
 "nbformat": 4,
 "nbformat_minor": 4
}
