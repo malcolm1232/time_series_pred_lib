{
 "cells": [
  {
   "cell_type": "markdown",
   "id": "246c94be",
   "metadata": {},
   "source": [
    "# Global Functions for Kaggle Codes for Reproducibility\n",
    "\n",
    "\n",
    "### Objective\n",
    "1. Global Functions for Kaggle Codes for Reproducibility\n",
    "\n",
    "### Example Notebooks to understand reference\n",
    "1. Refer to Kaggle-->Store Sales - Time Series Forecasting-->Top_1_Part 2_guide-external-data-features-for-multivariatets_Explanation.ipynb\n",
    "\n",
    "### Sections\n",
    "1. CustomRegressor() : class : Model for Prediction:\n",
    "  - credit: https://www.kaggle.com/code/romaupgini/guide-external-data-features-for-multivariatets/notebook"
   ]
  },
  {
   "cell_type": "markdown",
   "id": "d785f07d",
   "metadata": {},
   "source": [
    "### Clean Oil Price w.r.t custom Date as they affect sales"
   ]
  },
  {
   "cell_type": "code",
   "execution_count": 1,
   "id": "3871b4e9",
   "metadata": {},
   "outputs": [],
   "source": [
    "def get_cleaned_oil(df, col_name, date_range_start, date_range_end, rolling_period, n_lags=3 ):\n",
    "    '''\n",
    "    format:\n",
    "    :param Parameter: [type]: {Example or Explanation}\n",
    "\n",
    "    :param df: [pandas DataFrame]: {DataFrame}\n",
    "    :param col_name: Column Name of Oil\n",
    "    :param date_range_start: [Str] : {Start of Date Range in the format of \"2013-01-01\" or \"2017-08-31\"}\n",
    "    :param date_range_end: [Str] : {End of Date Range in the format of \"2013-01-01\" or \"2017-08-31\"}\n",
    "\n",
    "    :param rolling_period: [int] : {rolling average int; rolling(x).mean()}\n",
    "    :param n_lags: [int] : {After Determining autocorrelation, define lag number}\n",
    "\n",
    "    '''\n",
    "    print('[Instruction]: Did not emperically determine pacf. Thus, Look at pyplot and Determining autocorrelation\\\n",
    "    to define lag_number to determine number of price lags')\n",
    "    \n",
    "    calendar = pd.DataFrame(index = pd.date_range(date_range_start, date_range_end)).to_period('D')# param # param\n",
    "    oil = pd.read_csv('./datasets/oil.csv',\n",
    "                      parse_dates = ['date'], infer_datetime_format = True,\n",
    "                      index_col = 'date').to_period('D')\n",
    "    oil['avg_oil'] = oil[col_name].rolling(rolling_period).mean() # param # param\n",
    "    calendar = calendar.join(oil.avg_oil)\n",
    "    calendar['avg_oil'].fillna(method = 'ffill', inplace = True)\n",
    "    calendar.dropna(inplace = True)\n",
    "    calendar\n",
    "    \n",
    "    _ = plot_pacf(calendar.avg_oil, lags = 10)\n",
    "#     import matplotlib.pyplot as plt\n",
    "    plt.rcParams[\"figure.figsize\"] = (8,8)\n",
    "    plt.show()\n",
    "    \n",
    "    n_lags = n_lags # param\n",
    "    for l in range(1, n_lags + 1):\n",
    "        calendar[f'oil_lags{l}'] = calendar.avg_oil.shift(l)\n",
    "    calendar.dropna(inplace = True)\n",
    "    return calendar\n",
    "\n",
    "# # Sample Input Data\n",
    "# df = pd.read_csv('./datasets/oil.csv')\n",
    "# col_name='dcoilwtico'\n",
    "# date_range_start='2013-01-01'\n",
    "# date_range_end='2017-08-31'\n",
    "# rolling_period=7\n",
    "# n_lags=3\n",
    "\n",
    "# get_cleaned_oil(df, col_name, date_range_start, date_range_end, rolling_period, n_lags=3 )"
   ]
  },
  {
   "cell_type": "markdown",
   "id": "7609516b",
   "metadata": {},
   "source": [
    "### clean_holiday as they affect sales"
   ]
  },
  {
   "cell_type": "code",
   "execution_count": 1,
   "id": "2523efcf",
   "metadata": {},
   "outputs": [],
   "source": [
    "def clean_holiday(holiday_dir,func_get_cleaned_oil):\n",
    "\n",
    "    print(\"Input DataFrame with the following Columns:  ['type', 'locale', 'locale_name', 'description', 'transferred']\")\n",
    "    \n",
    "    '''\n",
    "    Original Columns : ['type', 'locale', 'locale_name', 'description', 'transferred']\n",
    "    \n",
    "    Unique Variables:\n",
    "    type : ['Additional' 'Bridge' 'Event' 'Holiday' 'Transfer' 'Work Day']\n",
    "    locale : ['National']\n",
    "    locale_name : ['Ecuador']\n",
    "    description : ['Batalla de Pichincha' 'Black Friday' 'Carnaval' 'Cyber Monday'....]\n",
    "    transferred : [False  True]\n",
    "    \n",
    "    format:\n",
    "    :param Parameter: [type]: {Example or Explanation}\n",
    "\n",
    "    :param df: [pandas DataFrame]: {DataFrame}\n",
    "    :param type: Type of Day, eg. 'Additional' 'Bridge' 'Event' 'Holiday' 'Transfer' 'Work Day'\n",
    "    :param locale: [List] : {target(s) column list}\n",
    "    :param locale_name: [List] : {features column list}\n",
    "    :param description: [int] : {5000}\n",
    "    :param transferred: [List] : {[150, 150, 150]}\n",
    "\n",
    "    '''\n",
    "    \n",
    "    print(\"If not sure, please look at:\")\n",
    "    print(\"1. Top_1_Part 2_guide-external-data-features-for-multivariatets_Explanation\")\n",
    "    print(\"2. https://www.kaggle.com/competitions/store-sales-time-series-forecasting/data\")\n",
    "    \n",
    "    calendar=func_get_cleaned_oil\n",
    "    \n",
    "    hol = pd.read_csv(holiday_dir,\n",
    "                  parse_dates = ['date'], infer_datetime_format = True,\n",
    "                  index_col = 'date').to_period('D')\n",
    "    hol = hol[hol.locale == 'National']  # Only National holidays so there'll be no false positive.\n",
    "    hol = hol.groupby(hol.index).first() # Remove duplicated holidays\n",
    "#     print(hol.shape)\n",
    "    hol\n",
    "    \n",
    "    calendar = calendar.join(hol)               # Joining calendar with holiday dataset\n",
    "    calendar['dofw'] = calendar.index.dayofweek # Day of week\n",
    "    calendar['wd'] = 1\n",
    "    calendar.loc[calendar.dofw > 4, 'wd'] = 0   # If it's saturday or sunday then it's not Weekday\n",
    "    calendar.loc[calendar.type == 'Work Day', 'wd'] = 1 # If it's Work Day event then it's a workday\n",
    "    calendar.loc[calendar.type == 'Transfer', 'wd'] = 0 # If it's Transfer event then it's not a work day\n",
    "    calendar.loc[calendar.type == 'Bridge', 'wd'] = 0 # If it's Bridge event then it's not a work day\n",
    "    calendar.loc[(calendar.type == 'Holiday') & (calendar.transferred == False), 'wd'] = 0 # If it's holiday and the holiday is not transferred then it's non working day\n",
    "    calendar.loc[(calendar.type == 'Holiday') & (calendar.transferred == True), 'wd'] = 1 # If it's holiday and transferred then it's working day\n",
    "    calendar = pd.get_dummies(calendar, columns = ['dofw'], drop_first = True) # One-hot encoding (Make sure to drop one of the columns by 'drop_first = True')\n",
    "    calendar = pd.get_dummies(calendar, columns = ['type']) # One-hot encoding for type holiday (No need to drop one of the columns because there's a \"No holiday\" already)\n",
    "    calendar.drop(['locale', 'locale_name', 'description', 'transferred'], axis = 1, inplace = True) # Unused columns\n",
    "#     print(calendar.shape)\n",
    "    calendar.head()\n",
    "    return calendar\n",
    "\n",
    "# holiday_dir = mainpath+'holidays_events.csv'\n",
    "# func_calendar = clean_holiday(holiday_dir,func_get_cleaned_oil)\n",
    "# func_calendar"
   ]
  },
  {
   "cell_type": "markdown",
   "id": "2627143c",
   "metadata": {},
   "source": [
    "### Process Time Depedent feature which is required for Custom Regressor\n",
    "- if unsure Read sample notebook: Kaggle-->Store Sales - Time Series Forecasting-->Top_1_Part 2_guide-external-data-features-for-multivariatets_Explanation.ipynb"
   ]
  },
  {
   "cell_type": "code",
   "execution_count": null,
   "id": "0457f923",
   "metadata": {},
   "outputs": [],
   "source": [
    "def process_TimeDependentFeatures(df, outlierProne_Str):\n",
    "    print('Objective: Process Time dependent feature which are highly prone to outliers which is REQUIRED in custom regressor')\n",
    "    print(\"If not sure, please look at:\")\n",
    "    print(\"1. Top_1_Part 2_guide-external-data-features-for-multivariatets_Explanation\")\n",
    "    \n",
    "    calendar['wageday']=0\n",
    "    calendar.loc[(calendar.index.to_timestamp().is_month_end) | (calendar.index.day == 15), 'wageday'] = 1\n",
    "    \n",
    "    ax = plt.subplots(1,1,figsize = (20,4))\n",
    "    train.loc[:].filter(like = outlierProne_Str, axis=0).groupby([\"date\"]).sales.sum().plot(title = outlierProne_Str)\n",
    "    plt.show()\n",
    "\n",
    "    school_season = []\n",
    "    for i, r in calendar.iterrows():\n",
    "        if i.month in [4, 5, 8, 9] :\n",
    "            school_season.append(1)\n",
    "        else :\n",
    "            school_season.append(0)\n",
    "    calendar['school_season'] = school_season\n",
    "    return calendar\n",
    "\n",
    "# outlierProne_Str = 'SCHOOL AND OFFICE SUPPLIES'\n",
    "# date_start_plot = \"2016-07-01\"\n",
    "# calendar = process_TimeDependentFeatures(df, outlierProne_Str)\n",
    "# calendar"
   ]
  },
  {
   "cell_type": "markdown",
   "id": "65b3fc20",
   "metadata": {},
   "source": [
    "### Zero Forecasting"
   ]
  },
  {
   "cell_type": "code",
   "execution_count": null,
   "id": "02bb5d55",
   "metadata": {},
   "outputs": [],
   "source": [
    "def Zeroforecasting():\n",
    "    \n",
    "    "
   ]
  }
 ],
 "metadata": {
  "kernelspec": {
   "display_name": "Python 3 (ipykernel)",
   "language": "python",
   "name": "python3"
  },
  "language_info": {
   "codemirror_mode": {
    "name": "ipython",
    "version": 3
   },
   "file_extension": ".py",
   "mimetype": "text/x-python",
   "name": "python",
   "nbconvert_exporter": "python",
   "pygments_lexer": "ipython3",
   "version": "3.9.12"
  }
 },
 "nbformat": 4,
 "nbformat_minor": 5
}
